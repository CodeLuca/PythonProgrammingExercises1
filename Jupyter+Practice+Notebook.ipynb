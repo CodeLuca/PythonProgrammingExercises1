{
 "cells": [
  {
   "cell_type": "markdown",
   "metadata": {},
   "source": [
    "High level language is understood by programs\n",
    "Computers / the CPU can only execute machine code.\n",
    "The translator converts a program in high level code to an equivilant program in machine code.\n",
    "Translators can be compilers or interpreters\n",
    "A compiler translates the entire program before execution\n",
    "An interpreter translates one line, executes that line and then translates the next line\n",
    "A compiler creates a list of errors after compilation\n",
    "An interpreter stops after the first error\n",
    "A compiler produces an independent executable file\n",
    "An interpreted program needs the interpreter each time it is run\n",
    "A compiled program is translated once\n",
    "An interpreted program is translated each time it is run"
   ]
  }
 ],
 "metadata": {
  "kernelspec": {
   "display_name": "Python 3",
   "language": "python",
   "name": "python3"
  },
  "language_info": {
   "codemirror_mode": {
    "name": "ipython",
    "version": 3
   },
   "file_extension": ".py",
   "mimetype": "text/x-python",
   "name": "python",
   "nbconvert_exporter": "python",
   "pygments_lexer": "ipython3",
   "version": "3.5.2"
  }
 },
 "nbformat": 4,
 "nbformat_minor": 2
}
